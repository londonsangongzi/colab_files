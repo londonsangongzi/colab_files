{
  "nbformat": 4,
  "nbformat_minor": 0,
  "metadata": {
    "colab": {
      "name": "Untitled1.ipynb",
      "provenance": [],
      "collapsed_sections": [],
      "authorship_tag": "ABX9TyM50K9K6EY33WbJp8A5+spu",
      "include_colab_link": true
    },
    "kernelspec": {
      "name": "python3",
      "display_name": "Python 3"
    }
  },
  "cells": [
    {
      "cell_type": "markdown",
      "metadata": {
        "id": "view-in-github",
        "colab_type": "text"
      },
      "source": [
        "<a href=\"https://colab.research.google.com/github/londonsangongzi/colab_files/blob/main/Untitled1.ipynb\" target=\"_parent\"><img src=\"https://colab.research.google.com/assets/colab-badge.svg\" alt=\"Open In Colab\"/></a>"
      ]
    },
    {
      "cell_type": "code",
      "metadata": {
        "id": "pXKDPAttcu8q"
      },
      "source": [
        "import requests\n",
        "from bs4 import BeautifulSoup\n",
        "from time import sleep"
      ],
      "execution_count": null,
      "outputs": []
    },
    {
      "cell_type": "code",
      "metadata": {
        "id": "_XMrm7s7kU7x"
      },
      "source": [
        "def _gettext_patch_iso_8859_1(response):\n",
        "    if response.encoding == 'ISO-8859-1' or response.encoding == 'iso-8859-1':\n",
        "        response.encoding = response.apparent_encoding\n",
        "    return response.text\n",
        "def text_from_html(htmlbody):\n",
        "    #, bodywidth=0\n",
        "    #\"\"\"\n",
        "    #https://github.com/Alir3z4/html2text/blob/master/html2text/cli.py\n",
        "    h = html2text.HTML2Text()\n",
        "    #不输出formatting for url links, IGNORE_ANCHORS, excluding markdown tags (esp. image and url links)\n",
        "    #   print(h.handle(\"<p>Hello, <a href='http://earth.google.com/'>world</a>!\"))\n",
        "    #       h.ignore_links = True --> \"Hello, world!\"\n",
        "    #       h.ignore_links = False --> \"Hello, [world](http://earth.google.com/)!\"\n",
        "    h.ignore_links = True \n",
        "    h.body_width = 0 #不按html显示格式换行,Number of characters per output line, 0 for no wrap\n",
        "    h.ignore_emphasis = True\n",
        "    #h.ignore_images = True\n",
        "    text= h.handle(htmlbody)\n",
        "    #\"\"\"\n",
        "    #text = html2text.html2text(htmlbody,ignore_links=True)\n",
        "    return text\n",
        "def getmaintextfromhtml(htmlbody,filter):\n",
        "    maintext = \"\"\n",
        "    if filter:       \n",
        "        soup = BeautifulSoup(htmlbody, 'lxml')   \n",
        "\n",
        "        #https://stackoverflow.com/questions/12545897/convert-br-to-end-line\n",
        "        for elem in soup.find_all([\"div\",\"p\",\"h1\",\"h2\",\"h3\",\"br\"]): #[\"a\", \"p\", \"div\", \"h3\", \"br\"]\n",
        "            elem.append('\\n')\n",
        "\n",
        "        for p in soup.select(filter):#find_all('p'):\n",
        "            #separator需要为'', <p><span class=\"dropcap\">T</span>he Great Man theory<p>\n",
        "            maintext += p.get_text(separator='')+\"\\n\"\n",
        "    else:\n",
        "        maintext = text_from_html(htmlbody)\n",
        "\n",
        "    return maintext        \n",
        "def getmaintextfromurl(url,filter=''):\n",
        "    #headers = {'User-Agent': 'Mozilla/5.0 (Windows NT 10.0; Win64; x64) AppleWebKit/537.36 (KHTML, like Gecko) Chrome/81.0.4044.138 Safari/537.36'}\n",
        "    headers={ #referer,User-Agent,空cookies：为了绕过soft paywall\n",
        "        'referer': 'https://www.google.com',\n",
        "        'User-Agent': 'Mozilla/5.0 (Windows NT 10.0; Win64; x64) AppleWebKit/537.36 (KHTML, like Gecko) Chrome/81.0.4044.138 Safari/537.36'} \n",
        "        #,'cookies':'' 默认即为空    \n",
        "        \n",
        "    r = requests.get(url,headers=headers)   \n",
        "\n",
        "    text_decoded = _gettext_patch_iso_8859_1(r)  \n",
        "\n",
        "    #return getmaintextfromhtml(r.text,filter)\n",
        "    return getmaintextfromhtml(text_decoded,filter)"
      ],
      "execution_count": null,
      "outputs": []
    },
    {
      "cell_type": "code",
      "metadata": {
        "id": "D3GUSQqac6i0"
      },
      "source": [
        "link='https://www.thestreet.com/mishtalk/economics/almost-no-rebound-in-industrial-production'\n",
        "filter='article section p,article section li'\n",
        "headers={ #referer,User-Agent,空cookies：为了绕过soft paywall\n",
        "        'referer': 'https://www.google.com',\n",
        "        'User-Agent': 'Mozilla/5.0 (Windows NT 10.0; Win64; x64) AppleWebKit/537.36 (KHTML, like Gecko) Chrome/81.0.4044.138 Safari/537.36'} #,'cookies':'' 默认即为空\n",
        "r = requests.get(link,headers=headers)\n",
        "print(getmaintextfromhtml(r.text,filter))"
      ],
      "execution_count": null,
      "outputs": []
    },
    {
      "cell_type": "markdown",
      "metadata": {
        "id": "_AU0HD3tNe-p"
      },
      "source": [
        "========================================================================================================================================================================"
      ]
    },
    {
      "cell_type": "code",
      "metadata": {
        "id": "4RCs223ogXlp",
        "colab": {
          "base_uri": "https://localhost:8080/"
        },
        "outputId": "8daeec11-0f83-421a-a542-e9ce75b6d2a9"
      },
      "source": [
        "!pip install feedparser\n",
        "!pip install html2text"
      ],
      "execution_count": null,
      "outputs": [
        {
          "output_type": "stream",
          "text": [
            "Collecting feedparser\n",
            "\u001b[?25l  Downloading https://files.pythonhosted.org/packages/d8/b2/15bf6781a861bbc5dd801d467f26448fb322bfedcd30f2e62b148d104dfb/feedparser-6.0.8-py3-none-any.whl (81kB)\n",
            "\r\u001b[K     |████                            | 10kB 13.0MB/s eta 0:00:01\r\u001b[K     |████████                        | 20kB 18.4MB/s eta 0:00:01\r\u001b[K     |████████████▏                   | 30kB 12.1MB/s eta 0:00:01\r\u001b[K     |████████████████▏               | 40kB 9.3MB/s eta 0:00:01\r\u001b[K     |████████████████████▏           | 51kB 5.2MB/s eta 0:00:01\r\u001b[K     |████████████████████████▎       | 61kB 5.3MB/s eta 0:00:01\r\u001b[K     |████████████████████████████▎   | 71kB 5.9MB/s eta 0:00:01\r\u001b[K     |████████████████████████████████| 81kB 3.7MB/s \n",
            "\u001b[?25hCollecting sgmllib3k\n",
            "  Downloading https://files.pythonhosted.org/packages/9e/bd/3704a8c3e0942d711c1299ebf7b9091930adae6675d7c8f476a7ce48653c/sgmllib3k-1.0.0.tar.gz\n",
            "Building wheels for collected packages: sgmllib3k\n",
            "  Building wheel for sgmllib3k (setup.py) ... \u001b[?25l\u001b[?25hdone\n",
            "  Created wheel for sgmllib3k: filename=sgmllib3k-1.0.0-cp37-none-any.whl size=6067 sha256=5c5fd092ada4a585fef57ed8f3e23579da0ec9ca47c8e142a306073f4916bf21\n",
            "  Stored in directory: /root/.cache/pip/wheels/f1/80/5a/444ba08a550cdd241bd9baf8bae44be750efe370adb944506a\n",
            "Successfully built sgmllib3k\n",
            "Installing collected packages: sgmllib3k, feedparser\n",
            "Successfully installed feedparser-6.0.8 sgmllib3k-1.0.0\n",
            "Collecting html2text\n",
            "  Downloading https://files.pythonhosted.org/packages/ae/88/14655f727f66b3e3199f4467bafcc88283e6c31b562686bf606264e09181/html2text-2020.1.16-py3-none-any.whl\n",
            "Installing collected packages: html2text\n",
            "Successfully installed html2text-2020.1.16\n"
          ],
          "name": "stdout"
        }
      ]
    },
    {
      "cell_type": "code",
      "metadata": {
        "id": "mseyDCGLgQiM",
        "colab": {
          "base_uri": "https://localhost:8080/"
        },
        "outputId": "75d11ece-f2be-4173-b51e-dda85d22dd93"
      },
      "source": [
        "import feedparser\n",
        "import html2text\n",
        "\n",
        "#url='https://www.reddit.com/r/Economics/top/.rss?t=week'\n",
        "#url='https://www.reddit.com/r/Economics/comments/l5waos/.rss'#默认是best\n",
        "#url='https://www.reddit.com/r/Economics/comments/l5waos/best/.rss'\n",
        "#url='https://www.reddit.com/r/Economics/comments/l5waos/top/.rss'\n",
        "#url='https://www.reddit.com/r/Economics/comments/.rss'\n",
        "#url='https://www.reddit.com/r/algotrading/top/.rss?t=week'\n",
        "\n",
        "url='https://www.blogger.com/feeds/2546602206734889307/posts/default'\n",
        "\n",
        "feedp = feedparser.parse(url)\n",
        "print(len(feedp.entries))\n",
        "i=0\n",
        "print([*feedp.entries[i].keys()])\n",
        "print(feedp.entries[i].title)\n",
        "print(feedp.entries[i].link)\n",
        "print(feedp.entries[i])\n",
        "#print(feedp.entries[i].summary)\n",
        "print('======================= summary ===========================')\n",
        "from bs4 import BeautifulSoup\n",
        "soup = BeautifulSoup(feedp.entries[i].summary, 'lxml')\n",
        "print(soup.get_text())\n",
        "print('======================== content ==========================')\n",
        "print(feedp.entries[i].content[0].value)\n",
        "soup = BeautifulSoup(feedp.entries[i].content[0].value, 'lxml')\n",
        "print(soup.get_text())\n",
        "##print(type(str(soup)))\n",
        "##print(getmaintextfromhtml(str(soup),''))\n",
        "print('======================== published ==========================')\n",
        "print('published',feedp.entries[i].published)\n",
        "print('published_parsed',feedp.entries[i].published_parsed)\n",
        "#print('updated',feedp.entries[i].updated)\n",
        "print('========================================================')\n",
        "#print(getmaintextfromhtml(feedp.entries[i].summary,'body > p'))#.article__body-text , \n",
        "#print(getmaintextfromhtml(feedp.entries[i].content[0].value,'body > p'))\n",
        "#print(text_from_html(feedp.entries[i].summary))\n",
        "#print(text_from_html(feedp.entries[i].content[0].value))\n",
        "\n",
        "for index,entry in enumerate(feedp.entries):\n",
        "  #print(entry.title,entry.updated)\n",
        "  print(index,entry.title)#,entry['published'])\n",
        "  print(entry.link)"
      ],
      "execution_count": null,
      "outputs": [
        {
          "output_type": "stream",
          "text": [
            "25\n",
            "['id', 'guidislink', 'link', 'published', 'published_parsed', 'updated', 'updated_parsed', 'title', 'title_detail', 'content', 'summary', 'links', 'authors', 'author_detail', 'href', 'author', 'gd_image', 'thr_total']\n",
            "Masks and freedom\n",
            "https://mainlymacro.blogspot.com/2021/07/masks-and-freedom.html\n",
            "{'id': 'tag:blogger.com,1999:blog-2546602206734889307.post-9138170843596170860', 'guidislink': True, 'link': 'https://mainlymacro.blogspot.com/2021/07/masks-and-freedom.html', 'published': '2021-07-06T01:29:00.003-07:00', 'published_parsed': time.struct_time(tm_year=2021, tm_mon=7, tm_mday=6, tm_hour=8, tm_min=29, tm_sec=0, tm_wday=1, tm_yday=187, tm_isdst=0), 'updated': '2021-07-07T05:36:35.382-07:00', 'updated_parsed': time.struct_time(tm_year=2021, tm_mon=7, tm_mday=7, tm_hour=12, tm_min=36, tm_sec=35, tm_wday=2, tm_yday=188, tm_isdst=0), 'title': 'Masks and freedom', 'title_detail': {'type': 'text/plain', 'language': None, 'base': 'https://www.blogger.com/feeds/2546602206734889307/posts/default', 'value': 'Masks and freedom'}, 'content': [{'type': 'text/html', 'language': None, 'base': 'https://www.blogger.com/feeds/2546602206734889307/posts/default', 'value': '<p>&nbsp;</p><p style=\"line-height: 140%; margin-bottom: 0cm;\"><span style=\"font-family: helvetica; font-size: medium;\">The government on 19th July intends to no longer make it compulsory to wear masks that protect people from catching COVID. Instead what people do to protect themselves from COVID will become a matter of personal responsibility. It is a ludicrous decision, almost beyond belief, when cases and hospitalisations are rising and millions of people are waiting to have their second vaccine dose. (One dose of vaccine gives little protection against getting the dominant Delta variant.)</span></p><p style=\"line-height: 140%; margin-bottom: 0cm;\"><span style=\"font-family: helvetica; font-size: medium;\"><br /> </span></p><p style=\"line-height: 140%; margin-bottom: 0cm;\"><span style=\"font-family: helvetica; font-size: medium;\">To talk about personal responsibility when answering a question about mask wearing is so utterly stupid, yet the government are persisting with it. It is stupid because the masks most people wear mainly protect others from themselves if they have COVID, and do very little to protect the wearer from others if these others are not wearing a mask. In other words most masks protect others from yourself, not yourself from others. So personal responsibility does not come into it.  </span></p><p style=\"line-height: 140%; margin-bottom: 0cm;\"><span style=\"font-family: helvetica; font-size: medium;\"><br /> </span></p><p style=\"line-height: 140%; margin-bottom: 0cm;\"><span style=\"font-family: helvetica; font-size: medium;\">Precisely because most masks do little to protect the wearer, it will be tempting for many to not wear a mask if they are not obliged to by law. That means that anywhere they go indoors will be dangerous to other people. It’s a classic reason why you need a cooperative solution enforced by the state. The law enforces a decision that most would like (a safe environment), but which wouldn’t happen through individual action.  </span></p><p style=\"line-height: 140%; margin-bottom: 0cm;\"><span style=\"font-family: helvetica; font-size: medium;\"><br /> </span></p><p style=\"line-height: 140%; margin-bottom: 0cm;\"><span style=\"font-family: helvetica; font-size: medium;\">An obvious analogy is drink driving. We don\\'t leave how much people drink before driving as a matter of personal responsibility, allowing those without enough responsibility to crash into other drivers. Another is guns. In the UK we have laws that ban people from owning a gun. We do not say that there is no need to outlaw guns because whether you get shot is a matter of personal responsibility.</span></p><p style=\"line-height: 140%; margin-bottom: 0cm;\"><span style=\"font-family: helvetica; font-size: medium;\"><br /> </span></p><p style=\"line-height: 140%; margin-bottom: 0cm;\"><span style=\"font-family: helvetica; font-size: medium;\">I make that last analogy because so much of what the government does nowadays comes from the worst of the US libertarian right, either directly or through newspapers. In the US compulsory mask wearing has been very controversial, with many saying it unnecessarily restricts personal freedom. But while anyone can buy most types of gun in the US, that is not the case in the UK. For similar reasons outside the right wing press and the <a href=\"https://twitter.com/LozzaFox/status/1362410220073402375?s=20\"><span style=\"color: #1155cc;\"><u>ravings</u></span></a>of an actor, mask wearing has not been controversial among most of the UK public. For example <a href=\"https://yougov.co.uk/topics/health/articles-reports/2020/07/15/why-wont-britons-wear-face-masks\"><span style=\"color: #1155cc;\"><u>this poll</u></span></a> suggests that most people think compulsory mask wearing protects them from COVID and that it should be made compulsory. Most <a href=\"https://twitter.com/surplustakes/status/1412086361805529091?s=20\"><span style=\"color: #1155cc;\"><u>people want</u></span></a> compulsory mask-wearing to continue.  </span></p><p style=\"line-height: 140%; margin-bottom: 0cm;\"><span style=\"font-family: helvetica; font-size: medium;\"><br /> </span></p><p style=\"line-height: 140%; margin-bottom: 0cm;\"><span style=\"font-family: helvetica; font-size: medium;\">The government will argue that with much of the population vaccinated, allowing mask wearing to be voluntary we do little harm. We have to learn to live with COVID, they will say. But learning to live with something does not equate to ignoring it. With cases rising rapidly in yet another COVID wave, anything the government does to reduce restrictions will intensify that exponential trend. It still remains possible, if very unlucky, for those with two vaccine doses to die of COVID. It is more likely, and hardly pleasant, to be hospitalised.</span></p><p style=\"line-height: 140%; margin-bottom: 0cm;\"><span style=\"font-family: helvetica; font-size: medium;\"><br /></span></p><p style=\"line-height: 140%; margin-bottom: 0cm;\"><span style=\"font-family: helvetica; font-size: medium;\">However the real problems are those who have only had a single dose of vaccine (or those who have only just had two doses). They are much more vulnerable to ending up in hospital and even dying from the Delta variant. There will be millions in that position, probably over 30% of the adult population by 19th July. Why not wait until they have been vaccinated?</span></p><p style=\"line-height: 140%; margin-bottom: 0cm;\"><span style=\"font-family: helvetica; font-size: large;\"><br /></span></p><p style=\"line-height: 140%; margin-bottom: 0cm;\"><span style=\"font-family: helvetica; font-size: medium;\"><span style=\"font-family: helvetica; font-size: medium;\">I have heard many people say that new admissions to hospital are low&nbsp;</span>because of vaccination&nbsp;so there is no need to worry. But hospital admissions lag new cases by around 10 days. It is true that vaccination means the chances of going to hospital after catching Covid are now lower than they were in January, say. But if the current rate holds over the next few months then hospitalisations will no longer look so low in a month or so, at a time hospitals are trying to reduce the backlog of non-Covid cases.</span></p><p style=\"line-height: 140%; margin-bottom: 0cm;\"><span style=\"font-family: helvetica; font-size: medium;\">&nbsp;&nbsp;  </span></p><p style=\"line-height: 140%; margin-bottom: 0cm;\"><span style=\"font-family: helvetica; font-size: medium;\">Another reason to wait is mutation. The best way to get a variant of Delta that overcomes the defences of vaccines is to allow Delta to spread among those who have had one dose of vaccine.   </span></p><p style=\"line-height: 140%; margin-bottom: 0cm;\"><span style=\"font-family: helvetica; font-size: medium;\"><br /> </span></p><p style=\"line-height: 140%; margin-bottom: 0cm;\"><span style=\"font-family: helvetica; font-size: medium;\">Making mask-wearing voluntary will dent the UK economic recovery. A large number of people who don’t want to take the risk, albeit low, of catching the Delta variant will stay away from social environments where others are not wearing a mask. Environments like shops and public transport, for example. Prominent ministers in this government have never appeared to understand the point that if cases keep on increasing and no lockdown is imposed, many people will lock themselves down. The extent of this will be lower because of vaccinations, but it will not disappear.  </span></p><p style=\"line-height: 140%; margin-bottom: 0cm;\"><span style=\"font-family: helvetica; font-size: medium;\"><br /> </span></p><p style=\"line-height: 140%; margin-bottom: 0cm;\"><span style=\"font-family: helvetica; font-size: medium;\">Among those who will suffer most from making mask-wearing voluntary will be workers that have to  come into contact with many people. Shop assistants, bus drivers, plumbers and the like. I can choose whether to go into a shop that has probably had many people without masks in there, but the shop worker cannot.</span></p><p style=\"line-height: 140%; margin-bottom: 0cm;\"><span style=\"font-family: helvetica; font-size: medium;\"><br /> </span></p><p style=\"line-height: 140%; margin-bottom: 0cm;\"><span style=\"font-family: helvetica; font-size: medium;\">Why is the government doing something that is unpopular, and makes so little sense? The Prime Minister in his press briefing yesterday said if not now then when? He fears that when the summer holidays end and more people are indoors, it will be difficult to end restrictions. The obvious reply is why not end restrictions when everyone has been fully vaccinated. Everyone in this case could include school children. The truth, I suspect, is that the Prime Minister is caving into his own crude libertarian [1] instincts and pressure from his MPs and the press. He can do that because of complete self-confidence that whatever he does his media will spin it in a favourable light and the BBC will not ask any awkward questions. .  </span></p><p style=\"line-height: 140%; margin-bottom: 0cm;\"><span style=\"font-family: helvetica; font-size: medium;\"><br /> </span></p><p style=\"line-height: 140%; margin-bottom: 0cm;\"><span style=\"font-family: helvetica; font-size: medium;\">The so called libertarian right likes to talk about freedom, and in this case the freedom not to wear masks. In return for this freedom we will get less freedom for all those that want to avoid getting Covid and are forced to avoid the maskless, and those that have no choice but to do so. Those unable to get vaccinated for medical reasons, or are otherwise vulnerable. Those that get Covid (and particularly Long Covid) as a result of ending compulsory mask-wearing will obviously lose much more of their freedom. As is so often the case with this government, freedom for a few means a lot less freedom for the many.  </span></p><p style=\"line-height: 140%; margin-bottom: 0cm;\"><span style=\"font-family: helvetica; font-size: medium;\"><br /></span></p><p style=\"line-height: 140%; margin-bottom: 0cm;\"><span style=\"font-family: arial; font-size: x-small;\">[1] I say its crude because it sees no problem in curtailing the liberty of others, by <a href=\"https://twitter.com/PARLYapp/status/1412157004118904832?s=20\">preventing</a> them demonstrate for example.&nbsp;</span></p>'}], 'summary': '<p>&nbsp;</p><p style=\"line-height: 140%; margin-bottom: 0cm;\"><span style=\"font-family: helvetica; font-size: medium;\">The government on 19th July intends to no longer make it compulsory to wear masks that protect people from catching COVID. Instead what people do to protect themselves from COVID will become a matter of personal responsibility. It is a ludicrous decision, almost beyond belief, when cases and hospitalisations are rising and millions of people are waiting to have their second vaccine dose. (One dose of vaccine gives little protection against getting the dominant Delta variant.)</span></p><p style=\"line-height: 140%; margin-bottom: 0cm;\"><span style=\"font-family: helvetica; font-size: medium;\"><br /> </span></p><p style=\"line-height: 140%; margin-bottom: 0cm;\"><span style=\"font-family: helvetica; font-size: medium;\">To talk about personal responsibility when answering a question about mask wearing is so utterly stupid, yet the government are persisting with it. It is stupid because the masks most people wear mainly protect others from themselves if they have COVID, and do very little to protect the wearer from others if these others are not wearing a mask. In other words most masks protect others from yourself, not yourself from others. So personal responsibility does not come into it.  </span></p><p style=\"line-height: 140%; margin-bottom: 0cm;\"><span style=\"font-family: helvetica; font-size: medium;\"><br /> </span></p><p style=\"line-height: 140%; margin-bottom: 0cm;\"><span style=\"font-family: helvetica; font-size: medium;\">Precisely because most masks do little to protect the wearer, it will be tempting for many to not wear a mask if they are not obliged to by law. That means that anywhere they go indoors will be dangerous to other people. It’s a classic reason why you need a cooperative solution enforced by the state. The law enforces a decision that most would like (a safe environment), but which wouldn’t happen through individual action.  </span></p><p style=\"line-height: 140%; margin-bottom: 0cm;\"><span style=\"font-family: helvetica; font-size: medium;\"><br /> </span></p><p style=\"line-height: 140%; margin-bottom: 0cm;\"><span style=\"font-family: helvetica; font-size: medium;\">An obvious analogy is drink driving. We don\\'t leave how much people drink before driving as a matter of personal responsibility, allowing those without enough responsibility to crash into other drivers. Another is guns. In the UK we have laws that ban people from owning a gun. We do not say that there is no need to outlaw guns because whether you get shot is a matter of personal responsibility.</span></p><p style=\"line-height: 140%; margin-bottom: 0cm;\"><span style=\"font-family: helvetica; font-size: medium;\"><br /> </span></p><p style=\"line-height: 140%; margin-bottom: 0cm;\"><span style=\"font-family: helvetica; font-size: medium;\">I make that last analogy because so much of what the government does nowadays comes from the worst of the US libertarian right, either directly or through newspapers. In the US compulsory mask wearing has been very controversial, with many saying it unnecessarily restricts personal freedom. But while anyone can buy most types of gun in the US, that is not the case in the UK. For similar reasons outside the right wing press and the <a href=\"https://twitter.com/LozzaFox/status/1362410220073402375?s=20\"><span style=\"color: #1155cc;\"><u>ravings</u></span></a>of an actor, mask wearing has not been controversial among most of the UK public. For example <a href=\"https://yougov.co.uk/topics/health/articles-reports/2020/07/15/why-wont-britons-wear-face-masks\"><span style=\"color: #1155cc;\"><u>this poll</u></span></a> suggests that most people think compulsory mask wearing protects them from COVID and that it should be made compulsory. Most <a href=\"https://twitter.com/surplustakes/status/1412086361805529091?s=20\"><span style=\"color: #1155cc;\"><u>people want</u></span></a> compulsory mask-wearing to continue.  </span></p><p style=\"line-height: 140%; margin-bottom: 0cm;\"><span style=\"font-family: helvetica; font-size: medium;\"><br /> </span></p><p style=\"line-height: 140%; margin-bottom: 0cm;\"><span style=\"font-family: helvetica; font-size: medium;\">The government will argue that with much of the population vaccinated, allowing mask wearing to be voluntary we do little harm. We have to learn to live with COVID, they will say. But learning to live with something does not equate to ignoring it. With cases rising rapidly in yet another COVID wave, anything the government does to reduce restrictions will intensify that exponential trend. It still remains possible, if very unlucky, for those with two vaccine doses to die of COVID. It is more likely, and hardly pleasant, to be hospitalised.</span></p><p style=\"line-height: 140%; margin-bottom: 0cm;\"><span style=\"font-family: helvetica; font-size: medium;\"><br /></span></p><p style=\"line-height: 140%; margin-bottom: 0cm;\"><span style=\"font-family: helvetica; font-size: medium;\">However the real problems are those who have only had a single dose of vaccine (or those who have only just had two doses). They are much more vulnerable to ending up in hospital and even dying from the Delta variant. There will be millions in that position, probably over 30% of the adult population by 19th July. Why not wait until they have been vaccinated?</span></p><p style=\"line-height: 140%; margin-bottom: 0cm;\"><span style=\"font-family: helvetica; font-size: large;\"><br /></span></p><p style=\"line-height: 140%; margin-bottom: 0cm;\"><span style=\"font-family: helvetica; font-size: medium;\"><span style=\"font-family: helvetica; font-size: medium;\">I have heard many people say that new admissions to hospital are low&nbsp;</span>because of vaccination&nbsp;so there is no need to worry. But hospital admissions lag new cases by around 10 days. It is true that vaccination means the chances of going to hospital after catching Covid are now lower than they were in January, say. But if the current rate holds over the next few months then hospitalisations will no longer look so low in a month or so, at a time hospitals are trying to reduce the backlog of non-Covid cases.</span></p><p style=\"line-height: 140%; margin-bottom: 0cm;\"><span style=\"font-family: helvetica; font-size: medium;\">&nbsp;&nbsp;  </span></p><p style=\"line-height: 140%; margin-bottom: 0cm;\"><span style=\"font-family: helvetica; font-size: medium;\">Another reason to wait is mutation. The best way to get a variant of Delta that overcomes the defences of vaccines is to allow Delta to spread among those who have had one dose of vaccine.   </span></p><p style=\"line-height: 140%; margin-bottom: 0cm;\"><span style=\"font-family: helvetica; font-size: medium;\"><br /> </span></p><p style=\"line-height: 140%; margin-bottom: 0cm;\"><span style=\"font-family: helvetica; font-size: medium;\">Making mask-wearing voluntary will dent the UK economic recovery. A large number of people who don’t want to take the risk, albeit low, of catching the Delta variant will stay away from social environments where others are not wearing a mask. Environments like shops and public transport, for example. Prominent ministers in this government have never appeared to understand the point that if cases keep on increasing and no lockdown is imposed, many people will lock themselves down. The extent of this will be lower because of vaccinations, but it will not disappear.  </span></p><p style=\"line-height: 140%; margin-bottom: 0cm;\"><span style=\"font-family: helvetica; font-size: medium;\"><br /> </span></p><p style=\"line-height: 140%; margin-bottom: 0cm;\"><span style=\"font-family: helvetica; font-size: medium;\">Among those who will suffer most from making mask-wearing voluntary will be workers that have to  come into contact with many people. Shop assistants, bus drivers, plumbers and the like. I can choose whether to go into a shop that has probably had many people without masks in there, but the shop worker cannot.</span></p><p style=\"line-height: 140%; margin-bottom: 0cm;\"><span style=\"font-family: helvetica; font-size: medium;\"><br /> </span></p><p style=\"line-height: 140%; margin-bottom: 0cm;\"><span style=\"font-family: helvetica; font-size: medium;\">Why is the government doing something that is unpopular, and makes so little sense? The Prime Minister in his press briefing yesterday said if not now then when? He fears that when the summer holidays end and more people are indoors, it will be difficult to end restrictions. The obvious reply is why not end restrictions when everyone has been fully vaccinated. Everyone in this case could include school children. The truth, I suspect, is that the Prime Minister is caving into his own crude libertarian [1] instincts and pressure from his MPs and the press. He can do that because of complete self-confidence that whatever he does his media will spin it in a favourable light and the BBC will not ask any awkward questions. .  </span></p><p style=\"line-height: 140%; margin-bottom: 0cm;\"><span style=\"font-family: helvetica; font-size: medium;\"><br /> </span></p><p style=\"line-height: 140%; margin-bottom: 0cm;\"><span style=\"font-family: helvetica; font-size: medium;\">The so called libertarian right likes to talk about freedom, and in this case the freedom not to wear masks. In return for this freedom we will get less freedom for all those that want to avoid getting Covid and are forced to avoid the maskless, and those that have no choice but to do so. Those unable to get vaccinated for medical reasons, or are otherwise vulnerable. Those that get Covid (and particularly Long Covid) as a result of ending compulsory mask-wearing will obviously lose much more of their freedom. As is so often the case with this government, freedom for a few means a lot less freedom for the many.  </span></p><p style=\"line-height: 140%; margin-bottom: 0cm;\"><span style=\"font-family: helvetica; font-size: medium;\"><br /></span></p><p style=\"line-height: 140%; margin-bottom: 0cm;\"><span style=\"font-family: arial; font-size: x-small;\">[1] I say its crude because it sees no problem in curtailing the liberty of others, by <a href=\"https://twitter.com/PARLYapp/status/1412157004118904832?s=20\">preventing</a> them demonstrate for example.&nbsp;</span></p>', 'links': [{'rel': 'replies', 'type': 'application/atom+xml', 'href': 'https://mainlymacro.blogspot.com/feeds/9138170843596170860/comments/default', 'title': 'Post Comments'}, {'rel': 'replies', 'type': 'text/html', 'href': 'https://mainlymacro.blogspot.com/2021/07/masks-and-freedom.html#comment-form', 'title': '0 Comments'}, {'rel': 'edit', 'type': 'application/atom+xml', 'href': 'https://www.blogger.com/feeds/2546602206734889307/posts/default/9138170843596170860'}, {'rel': 'self', 'type': 'application/atom+xml', 'href': 'https://www.blogger.com/feeds/2546602206734889307/posts/default/9138170843596170860'}, {'rel': 'alternate', 'type': 'text/html', 'href': 'https://mainlymacro.blogspot.com/2021/07/masks-and-freedom.html', 'title': 'Masks and freedom'}], 'authors': [{'name': 'Mainly Macro', 'href': 'https://www.blogger.com/profile/09984575852247982901', 'email': 'noreply@blogger.com'}], 'author_detail': {'name': 'Mainly Macro', 'href': 'https://www.blogger.com/profile/09984575852247982901', 'email': 'noreply@blogger.com'}, 'href': 'https://www.blogger.com/profile/09984575852247982901', 'author': 'Mainly Macro (noreply@blogger.com)', 'gd_image': {'rel': 'http://schemas.google.com/g/2005#thumbnail', 'width': '32', 'height': '32', 'src': '//images-blogger-opensocial.googleusercontent.com/gadgets/proxy?url=http://1.bp.blogspot.com/-qVDsrodTz3E/VQiSpByKqyI/AAAAAAAAA_U/RmJ7hFwpb8Q/s113/2015-03-07%252B16.50.01%252Bsmall.jpg&container=blogger&gadget=a&rewriteMime=image/*'}, 'thr_total': '0'}\n",
            "======================= summary ===========================\n",
            " The government on 19th July intends to no longer make it compulsory to wear masks that protect people from catching COVID. Instead what people do to protect themselves from COVID will become a matter of personal responsibility. It is a ludicrous decision, almost beyond belief, when cases and hospitalisations are rising and millions of people are waiting to have their second vaccine dose. (One dose of vaccine gives little protection against getting the dominant Delta variant.) To talk about personal responsibility when answering a question about mask wearing is so utterly stupid, yet the government are persisting with it. It is stupid because the masks most people wear mainly protect others from themselves if they have COVID, and do very little to protect the wearer from others if these others are not wearing a mask. In other words most masks protect others from yourself, not yourself from others. So personal responsibility does not come into it.   Precisely because most masks do little to protect the wearer, it will be tempting for many to not wear a mask if they are not obliged to by law. That means that anywhere they go indoors will be dangerous to other people. It’s a classic reason why you need a cooperative solution enforced by the state. The law enforces a decision that most would like (a safe environment), but which wouldn’t happen through individual action.   An obvious analogy is drink driving. We don't leave how much people drink before driving as a matter of personal responsibility, allowing those without enough responsibility to crash into other drivers. Another is guns. In the UK we have laws that ban people from owning a gun. We do not say that there is no need to outlaw guns because whether you get shot is a matter of personal responsibility. I make that last analogy because so much of what the government does nowadays comes from the worst of the US libertarian right, either directly or through newspapers. In the US compulsory mask wearing has been very controversial, with many saying it unnecessarily restricts personal freedom. But while anyone can buy most types of gun in the US, that is not the case in the UK. For similar reasons outside the right wing press and the ravingsof an actor, mask wearing has not been controversial among most of the UK public. For example this poll suggests that most people think compulsory mask wearing protects them from COVID and that it should be made compulsory. Most people want compulsory mask-wearing to continue.   The government will argue that with much of the population vaccinated, allowing mask wearing to be voluntary we do little harm. We have to learn to live with COVID, they will say. But learning to live with something does not equate to ignoring it. With cases rising rapidly in yet another COVID wave, anything the government does to reduce restrictions will intensify that exponential trend. It still remains possible, if very unlucky, for those with two vaccine doses to die of COVID. It is more likely, and hardly pleasant, to be hospitalised.However the real problems are those who have only had a single dose of vaccine (or those who have only just had two doses). They are much more vulnerable to ending up in hospital and even dying from the Delta variant. There will be millions in that position, probably over 30% of the adult population by 19th July. Why not wait until they have been vaccinated?I have heard many people say that new admissions to hospital are low because of vaccination so there is no need to worry. But hospital admissions lag new cases by around 10 days. It is true that vaccination means the chances of going to hospital after catching Covid are now lower than they were in January, say. But if the current rate holds over the next few months then hospitalisations will no longer look so low in a month or so, at a time hospitals are trying to reduce the backlog of non-Covid cases.    Another reason to wait is mutation. The best way to get a variant of Delta that overcomes the defences of vaccines is to allow Delta to spread among those who have had one dose of vaccine.    Making mask-wearing voluntary will dent the UK economic recovery. A large number of people who don’t want to take the risk, albeit low, of catching the Delta variant will stay away from social environments where others are not wearing a mask. Environments like shops and public transport, for example. Prominent ministers in this government have never appeared to understand the point that if cases keep on increasing and no lockdown is imposed, many people will lock themselves down. The extent of this will be lower because of vaccinations, but it will not disappear.   Among those who will suffer most from making mask-wearing voluntary will be workers that have to  come into contact with many people. Shop assistants, bus drivers, plumbers and the like. I can choose whether to go into a shop that has probably had many people without masks in there, but the shop worker cannot. Why is the government doing something that is unpopular, and makes so little sense? The Prime Minister in his press briefing yesterday said if not now then when? He fears that when the summer holidays end and more people are indoors, it will be difficult to end restrictions. The obvious reply is why not end restrictions when everyone has been fully vaccinated. Everyone in this case could include school children. The truth, I suspect, is that the Prime Minister is caving into his own crude libertarian [1] instincts and pressure from his MPs and the press. He can do that because of complete self-confidence that whatever he does his media will spin it in a favourable light and the BBC will not ask any awkward questions. .   The so called libertarian right likes to talk about freedom, and in this case the freedom not to wear masks. In return for this freedom we will get less freedom for all those that want to avoid getting Covid and are forced to avoid the maskless, and those that have no choice but to do so. Those unable to get vaccinated for medical reasons, or are otherwise vulnerable. Those that get Covid (and particularly Long Covid) as a result of ending compulsory mask-wearing will obviously lose much more of their freedom. As is so often the case with this government, freedom for a few means a lot less freedom for the many.  [1] I say its crude because it sees no problem in curtailing the liberty of others, by preventing them demonstrate for example. \n",
            "======================== content ==========================\n",
            "<p>&nbsp;</p><p style=\"line-height: 140%; margin-bottom: 0cm;\"><span style=\"font-family: helvetica; font-size: medium;\">The government on 19th July intends to no longer make it compulsory to wear masks that protect people from catching COVID. Instead what people do to protect themselves from COVID will become a matter of personal responsibility. It is a ludicrous decision, almost beyond belief, when cases and hospitalisations are rising and millions of people are waiting to have their second vaccine dose. (One dose of vaccine gives little protection against getting the dominant Delta variant.)</span></p><p style=\"line-height: 140%; margin-bottom: 0cm;\"><span style=\"font-family: helvetica; font-size: medium;\"><br /> </span></p><p style=\"line-height: 140%; margin-bottom: 0cm;\"><span style=\"font-family: helvetica; font-size: medium;\">To talk about personal responsibility when answering a question about mask wearing is so utterly stupid, yet the government are persisting with it. It is stupid because the masks most people wear mainly protect others from themselves if they have COVID, and do very little to protect the wearer from others if these others are not wearing a mask. In other words most masks protect others from yourself, not yourself from others. So personal responsibility does not come into it.  </span></p><p style=\"line-height: 140%; margin-bottom: 0cm;\"><span style=\"font-family: helvetica; font-size: medium;\"><br /> </span></p><p style=\"line-height: 140%; margin-bottom: 0cm;\"><span style=\"font-family: helvetica; font-size: medium;\">Precisely because most masks do little to protect the wearer, it will be tempting for many to not wear a mask if they are not obliged to by law. That means that anywhere they go indoors will be dangerous to other people. It’s a classic reason why you need a cooperative solution enforced by the state. The law enforces a decision that most would like (a safe environment), but which wouldn’t happen through individual action.  </span></p><p style=\"line-height: 140%; margin-bottom: 0cm;\"><span style=\"font-family: helvetica; font-size: medium;\"><br /> </span></p><p style=\"line-height: 140%; margin-bottom: 0cm;\"><span style=\"font-family: helvetica; font-size: medium;\">An obvious analogy is drink driving. We don't leave how much people drink before driving as a matter of personal responsibility, allowing those without enough responsibility to crash into other drivers. Another is guns. In the UK we have laws that ban people from owning a gun. We do not say that there is no need to outlaw guns because whether you get shot is a matter of personal responsibility.</span></p><p style=\"line-height: 140%; margin-bottom: 0cm;\"><span style=\"font-family: helvetica; font-size: medium;\"><br /> </span></p><p style=\"line-height: 140%; margin-bottom: 0cm;\"><span style=\"font-family: helvetica; font-size: medium;\">I make that last analogy because so much of what the government does nowadays comes from the worst of the US libertarian right, either directly or through newspapers. In the US compulsory mask wearing has been very controversial, with many saying it unnecessarily restricts personal freedom. But while anyone can buy most types of gun in the US, that is not the case in the UK. For similar reasons outside the right wing press and the <a href=\"https://twitter.com/LozzaFox/status/1362410220073402375?s=20\"><span style=\"color: #1155cc;\"><u>ravings</u></span></a>of an actor, mask wearing has not been controversial among most of the UK public. For example <a href=\"https://yougov.co.uk/topics/health/articles-reports/2020/07/15/why-wont-britons-wear-face-masks\"><span style=\"color: #1155cc;\"><u>this poll</u></span></a> suggests that most people think compulsory mask wearing protects them from COVID and that it should be made compulsory. Most <a href=\"https://twitter.com/surplustakes/status/1412086361805529091?s=20\"><span style=\"color: #1155cc;\"><u>people want</u></span></a> compulsory mask-wearing to continue.  </span></p><p style=\"line-height: 140%; margin-bottom: 0cm;\"><span style=\"font-family: helvetica; font-size: medium;\"><br /> </span></p><p style=\"line-height: 140%; margin-bottom: 0cm;\"><span style=\"font-family: helvetica; font-size: medium;\">The government will argue that with much of the population vaccinated, allowing mask wearing to be voluntary we do little harm. We have to learn to live with COVID, they will say. But learning to live with something does not equate to ignoring it. With cases rising rapidly in yet another COVID wave, anything the government does to reduce restrictions will intensify that exponential trend. It still remains possible, if very unlucky, for those with two vaccine doses to die of COVID. It is more likely, and hardly pleasant, to be hospitalised.</span></p><p style=\"line-height: 140%; margin-bottom: 0cm;\"><span style=\"font-family: helvetica; font-size: medium;\"><br /></span></p><p style=\"line-height: 140%; margin-bottom: 0cm;\"><span style=\"font-family: helvetica; font-size: medium;\">However the real problems are those who have only had a single dose of vaccine (or those who have only just had two doses). They are much more vulnerable to ending up in hospital and even dying from the Delta variant. There will be millions in that position, probably over 30% of the adult population by 19th July. Why not wait until they have been vaccinated?</span></p><p style=\"line-height: 140%; margin-bottom: 0cm;\"><span style=\"font-family: helvetica; font-size: large;\"><br /></span></p><p style=\"line-height: 140%; margin-bottom: 0cm;\"><span style=\"font-family: helvetica; font-size: medium;\"><span style=\"font-family: helvetica; font-size: medium;\">I have heard many people say that new admissions to hospital are low&nbsp;</span>because of vaccination&nbsp;so there is no need to worry. But hospital admissions lag new cases by around 10 days. It is true that vaccination means the chances of going to hospital after catching Covid are now lower than they were in January, say. But if the current rate holds over the next few months then hospitalisations will no longer look so low in a month or so, at a time hospitals are trying to reduce the backlog of non-Covid cases.</span></p><p style=\"line-height: 140%; margin-bottom: 0cm;\"><span style=\"font-family: helvetica; font-size: medium;\">&nbsp;&nbsp;  </span></p><p style=\"line-height: 140%; margin-bottom: 0cm;\"><span style=\"font-family: helvetica; font-size: medium;\">Another reason to wait is mutation. The best way to get a variant of Delta that overcomes the defences of vaccines is to allow Delta to spread among those who have had one dose of vaccine.   </span></p><p style=\"line-height: 140%; margin-bottom: 0cm;\"><span style=\"font-family: helvetica; font-size: medium;\"><br /> </span></p><p style=\"line-height: 140%; margin-bottom: 0cm;\"><span style=\"font-family: helvetica; font-size: medium;\">Making mask-wearing voluntary will dent the UK economic recovery. A large number of people who don’t want to take the risk, albeit low, of catching the Delta variant will stay away from social environments where others are not wearing a mask. Environments like shops and public transport, for example. Prominent ministers in this government have never appeared to understand the point that if cases keep on increasing and no lockdown is imposed, many people will lock themselves down. The extent of this will be lower because of vaccinations, but it will not disappear.  </span></p><p style=\"line-height: 140%; margin-bottom: 0cm;\"><span style=\"font-family: helvetica; font-size: medium;\"><br /> </span></p><p style=\"line-height: 140%; margin-bottom: 0cm;\"><span style=\"font-family: helvetica; font-size: medium;\">Among those who will suffer most from making mask-wearing voluntary will be workers that have to  come into contact with many people. Shop assistants, bus drivers, plumbers and the like. I can choose whether to go into a shop that has probably had many people without masks in there, but the shop worker cannot.</span></p><p style=\"line-height: 140%; margin-bottom: 0cm;\"><span style=\"font-family: helvetica; font-size: medium;\"><br /> </span></p><p style=\"line-height: 140%; margin-bottom: 0cm;\"><span style=\"font-family: helvetica; font-size: medium;\">Why is the government doing something that is unpopular, and makes so little sense? The Prime Minister in his press briefing yesterday said if not now then when? He fears that when the summer holidays end and more people are indoors, it will be difficult to end restrictions. The obvious reply is why not end restrictions when everyone has been fully vaccinated. Everyone in this case could include school children. The truth, I suspect, is that the Prime Minister is caving into his own crude libertarian [1] instincts and pressure from his MPs and the press. He can do that because of complete self-confidence that whatever he does his media will spin it in a favourable light and the BBC will not ask any awkward questions. .  </span></p><p style=\"line-height: 140%; margin-bottom: 0cm;\"><span style=\"font-family: helvetica; font-size: medium;\"><br /> </span></p><p style=\"line-height: 140%; margin-bottom: 0cm;\"><span style=\"font-family: helvetica; font-size: medium;\">The so called libertarian right likes to talk about freedom, and in this case the freedom not to wear masks. In return for this freedom we will get less freedom for all those that want to avoid getting Covid and are forced to avoid the maskless, and those that have no choice but to do so. Those unable to get vaccinated for medical reasons, or are otherwise vulnerable. Those that get Covid (and particularly Long Covid) as a result of ending compulsory mask-wearing will obviously lose much more of their freedom. As is so often the case with this government, freedom for a few means a lot less freedom for the many.  </span></p><p style=\"line-height: 140%; margin-bottom: 0cm;\"><span style=\"font-family: helvetica; font-size: medium;\"><br /></span></p><p style=\"line-height: 140%; margin-bottom: 0cm;\"><span style=\"font-family: arial; font-size: x-small;\">[1] I say its crude because it sees no problem in curtailing the liberty of others, by <a href=\"https://twitter.com/PARLYapp/status/1412157004118904832?s=20\">preventing</a> them demonstrate for example.&nbsp;</span></p>\n",
            " The government on 19th July intends to no longer make it compulsory to wear masks that protect people from catching COVID. Instead what people do to protect themselves from COVID will become a matter of personal responsibility. It is a ludicrous decision, almost beyond belief, when cases and hospitalisations are rising and millions of people are waiting to have their second vaccine dose. (One dose of vaccine gives little protection against getting the dominant Delta variant.) To talk about personal responsibility when answering a question about mask wearing is so utterly stupid, yet the government are persisting with it. It is stupid because the masks most people wear mainly protect others from themselves if they have COVID, and do very little to protect the wearer from others if these others are not wearing a mask. In other words most masks protect others from yourself, not yourself from others. So personal responsibility does not come into it.   Precisely because most masks do little to protect the wearer, it will be tempting for many to not wear a mask if they are not obliged to by law. That means that anywhere they go indoors will be dangerous to other people. It’s a classic reason why you need a cooperative solution enforced by the state. The law enforces a decision that most would like (a safe environment), but which wouldn’t happen through individual action.   An obvious analogy is drink driving. We don't leave how much people drink before driving as a matter of personal responsibility, allowing those without enough responsibility to crash into other drivers. Another is guns. In the UK we have laws that ban people from owning a gun. We do not say that there is no need to outlaw guns because whether you get shot is a matter of personal responsibility. I make that last analogy because so much of what the government does nowadays comes from the worst of the US libertarian right, either directly or through newspapers. In the US compulsory mask wearing has been very controversial, with many saying it unnecessarily restricts personal freedom. But while anyone can buy most types of gun in the US, that is not the case in the UK. For similar reasons outside the right wing press and the ravingsof an actor, mask wearing has not been controversial among most of the UK public. For example this poll suggests that most people think compulsory mask wearing protects them from COVID and that it should be made compulsory. Most people want compulsory mask-wearing to continue.   The government will argue that with much of the population vaccinated, allowing mask wearing to be voluntary we do little harm. We have to learn to live with COVID, they will say. But learning to live with something does not equate to ignoring it. With cases rising rapidly in yet another COVID wave, anything the government does to reduce restrictions will intensify that exponential trend. It still remains possible, if very unlucky, for those with two vaccine doses to die of COVID. It is more likely, and hardly pleasant, to be hospitalised.However the real problems are those who have only had a single dose of vaccine (or those who have only just had two doses). They are much more vulnerable to ending up in hospital and even dying from the Delta variant. There will be millions in that position, probably over 30% of the adult population by 19th July. Why not wait until they have been vaccinated?I have heard many people say that new admissions to hospital are low because of vaccination so there is no need to worry. But hospital admissions lag new cases by around 10 days. It is true that vaccination means the chances of going to hospital after catching Covid are now lower than they were in January, say. But if the current rate holds over the next few months then hospitalisations will no longer look so low in a month or so, at a time hospitals are trying to reduce the backlog of non-Covid cases.    Another reason to wait is mutation. The best way to get a variant of Delta that overcomes the defences of vaccines is to allow Delta to spread among those who have had one dose of vaccine.    Making mask-wearing voluntary will dent the UK economic recovery. A large number of people who don’t want to take the risk, albeit low, of catching the Delta variant will stay away from social environments where others are not wearing a mask. Environments like shops and public transport, for example. Prominent ministers in this government have never appeared to understand the point that if cases keep on increasing and no lockdown is imposed, many people will lock themselves down. The extent of this will be lower because of vaccinations, but it will not disappear.   Among those who will suffer most from making mask-wearing voluntary will be workers that have to  come into contact with many people. Shop assistants, bus drivers, plumbers and the like. I can choose whether to go into a shop that has probably had many people without masks in there, but the shop worker cannot. Why is the government doing something that is unpopular, and makes so little sense? The Prime Minister in his press briefing yesterday said if not now then when? He fears that when the summer holidays end and more people are indoors, it will be difficult to end restrictions. The obvious reply is why not end restrictions when everyone has been fully vaccinated. Everyone in this case could include school children. The truth, I suspect, is that the Prime Minister is caving into his own crude libertarian [1] instincts and pressure from his MPs and the press. He can do that because of complete self-confidence that whatever he does his media will spin it in a favourable light and the BBC will not ask any awkward questions. .   The so called libertarian right likes to talk about freedom, and in this case the freedom not to wear masks. In return for this freedom we will get less freedom for all those that want to avoid getting Covid and are forced to avoid the maskless, and those that have no choice but to do so. Those unable to get vaccinated for medical reasons, or are otherwise vulnerable. Those that get Covid (and particularly Long Covid) as a result of ending compulsory mask-wearing will obviously lose much more of their freedom. As is so often the case with this government, freedom for a few means a lot less freedom for the many.  [1] I say its crude because it sees no problem in curtailing the liberty of others, by preventing them demonstrate for example. \n",
            "======================== published ==========================\n",
            "published 2021-07-06T01:29:00.003-07:00\n",
            "published_parsed time.struct_time(tm_year=2021, tm_mon=7, tm_mday=6, tm_hour=8, tm_min=29, tm_sec=0, tm_wday=1, tm_yday=187, tm_isdst=0)\n",
            "========================================================\n",
            "0 Masks and freedom\n",
            "https://mainlymacro.blogspot.com/2021/07/masks-and-freedom.html\n",
            "1 The COVID wave the government doesn’t want to talk about\n",
            "https://mainlymacro.blogspot.com/2021/06/the-covid-wave-government-doesnt-want.html\n",
            "2 What attitudes to lockdowns tell us about the right wing media\n",
            "https://mainlymacro.blogspot.com/2021/06/what-attitudes-to-lockdowns-tell-us.html\n",
            "3 A government out of control\n",
            "https://mainlymacro.blogspot.com/2021/06/a-government-out-of-control.html\n",
            "4 How should we think about talk of an impending US inflationary spiral?\n",
            "https://mainlymacro.blogspot.com/2021/06/how-should-we-think-about-talk-of.html\n",
            "5 Worried about another COVID wave? Here are some pictures of Johnson getting married again\n",
            "https://mainlymacro.blogspot.com/2021/06/worried-about-another-covid-wave-here.html\n",
            "6 Cummings, a puzzle about delayed lockdowns and more parallels between Johnson and Trump\n",
            "https://mainlymacro.blogspot.com/2021/05/cummings-puzzle-about-delayed-lockdowns.html\n",
            "7 Johnson leads a populist government which should not be normalised\n",
            "https://mainlymacro.blogspot.com/2021/05/johnson-leads-populist-government-which.html\n",
            "8 Is the spread of the Indian variant in the UK an inevitable result of living with COVID?\n",
            "https://mainlymacro.blogspot.com/2021/05/is-indian-variant-inevitable-result-of.html\n",
            "9 Some lessons in how to combat the Tory propaganda machine\n",
            "https://mainlymacro.blogspot.com/2021/05/some-lessons-in-how-to-combat-tory.html\n",
            "10 How most of the West got the pandemic so badly wrong?\n",
            "https://mainlymacro.blogspot.com/2021/05/how-most-of-west-got-pandemic-so-badly.html\n",
            "11 Eurozone fiscal rules should be based on national macroeconomic stabilisation, not national debt stabilisation\n",
            "https://mainlymacro.blogspot.com/2021/04/eurozone-fiscal-rules-should-be-based.html\n",
            "12 Why neoliberalism’s evolution into a populist plutocracy was inevitable\n",
            "https://mainlymacro.blogspot.com/2021/04/why-neoliberalisms-evolution-into.html\n",
            "13 Two types of recovery from the COVID recession, or how you cannot effectively fight plutocratic populism by returning to the recent past.\n",
            "https://mainlymacro.blogspot.com/2021/04/two-types-of-recovery-from-covid.html\n",
            "14 Labour should start contesting the Tory record in running the economy\n",
            "https://mainlymacro.blogspot.com/2021/04/labour-should-start-contesting-tory.html\n",
            "15 Vines and Willis on the future of macroeconomics\n",
            "https://mainlymacro.blogspot.com/2021/03/vines-and-willis-on-future-of.html\n",
            "16 As things stand, the chances of defeating Johnson at the next election are minuscule\n",
            "https://mainlymacro.blogspot.com/2021/03/as-things-stand-chances-of-defeating.html\n",
            "17 The Royal Family is today’s England\n",
            "https://mainlymacro.blogspot.com/2021/03/the-royal-family-is-todays-england.html\n",
            "18 Why are the Conservatives so bad at running the economy?\n",
            "https://mainlymacro.blogspot.com/2021/03/why-are-conservatives-so-bad-at-running.html\n",
            "19 The budget should create a balanced recovery, but instead it will be about the deficit\n",
            "https://mainlymacro.blogspot.com/2021/03/the-budget-should-create-balanced.html\n",
            "20 Two paths to controlling COVID with vaccinations\n",
            "https://mainlymacro.blogspot.com/2021/02/two-paths-to-controlling-covid-with.html\n",
            "21 COVID-19, experts and the media\n",
            "https://mainlymacro.blogspot.com/2021/02/covid-19-experts-and-media.html\n",
            "22 Media radicalisation in the US and UK\n",
            "https://mainlymacro.blogspot.com/2021/02/media-radicalisation-in-us-and-uk.html\n",
            "23 Why vaccines alone are not enough, how the UK government could mess things up again and which European country will eliminate COVID first?\n",
            "https://mainlymacro.blogspot.com/2021/02/why-vaccines-alone-are-not-enough-how.html\n",
            "24 The two sides of austerity.\n",
            "https://mainlymacro.blogspot.com/2021/01/the-two-sides-of-austerity.html\n"
          ],
          "name": "stdout"
        }
      ]
    },
    {
      "cell_type": "code",
      "metadata": {
        "id": "kq5-Rv5s8pEE"
      },
      "source": [
        "item=feedp.entries[3]\n",
        "print(item['content'][0].value,'\\n')"
      ],
      "execution_count": null,
      "outputs": []
    },
    {
      "cell_type": "markdown",
      "metadata": {
        "id": "ARlEfWAlC5BS"
      },
      "source": [
        "# **google news**\n",
        "https://stackoverflow.com/questions/57792590/google-news-xml-api-use-country-language-parameters\n",
        "\n",
        "**https://newscatcherapi.com/blog/google-news-rss-search-parameters-the-missing-documentaiton**\n",
        "*   hl = host language\n",
        "*   gl = 增强原始国家/地区与参数值匹配的搜索结果。浏览器中的默认值为gl=US\n",
        "*   lr (language restrict 语言限制）：将搜索结果限制为以特定语言编写的文档\n",
        "*   cr (country restrict): restricts search results to documents originating in a particular country\n",
        "*   ceid = Country and language: ceid=US:en\n",
        "\n",
        "https://news.google.com/rss/search?q=brexit%20when:24h%20inurl:bloomberg.com&ceid=US:en&hl=en-US&gl=US\n",
        "\n",
        "https://news.google.com/rss/search?q=economics%20OR%20polotics%20when:24h%20inurl:bloomberg.com&ceid=US:en&hl=en-US&gl=US\n",
        "\n",
        "https://news.google.com/rss/search?q=brexit%20when:1h inurl:bloomberg.com&ceid=US:en&hl=en-US&gl=US\n",
        "\n",
        "https://news.google.com/rss/headlines/section/topic/BUSINESS?hl=en-US&gl=US&ceid=US:en\n",
        "\n",
        "https://news.google.com/rss/search?q=when:24h allinurl:bloomberg.com 或 inurl:bloomberg.com\n",
        "\n",
        "当我们开始“调查”时，到此为止的所有事情或多或少都为人所知。这部分花费了90-95％的时间来弄清楚我们可以使用Google News RSS feed实际实现的目标。简而言之，您可以在RSS中搜索Google引擎索引的新闻。这很重要，因为您可以通过加载30KB的RSS网页（而不是1MB +的UI版本）从Google网上抓取新闻链接。\n",
        "让我们从一个简单的搜索开始。假设我们要阅读有关Elon Musk的最新文章：\n",
        "https://news.google.com/rss/search?q=Elon%20Musk&ceid=US:en&hl=en-US&gl=US\n",
        "\n",
        "q=Elon%20Musk is the part we are interested in.\n",
        "\n",
        "\n",
        "\n",
        "\n",
        "\n",
        "\n",
        "\n",
        "\n"
      ]
    },
    {
      "cell_type": "code",
      "metadata": {
        "id": "nlb_IDVaN3q7",
        "colab": {
          "base_uri": "https://localhost:8080/"
        },
        "outputId": "f4dbaa17-e4d7-4ac6-b5a1-195ebc6dd8f4"
      },
      "source": [
        "!pip install feedparser"
      ],
      "execution_count": null,
      "outputs": [
        {
          "output_type": "stream",
          "text": [
            "Collecting feedparser\n",
            "\u001b[?25l  Downloading https://files.pythonhosted.org/packages/1c/21/faf1bac028662cc8adb2b5ef7a6f3999a765baa2835331df365289b0ca56/feedparser-6.0.2-py3-none-any.whl (80kB)\n",
            "\r\u001b[K     |████                            | 10kB 18.0MB/s eta 0:00:01\r\u001b[K     |████████                        | 20kB 1.7MB/s eta 0:00:01\r\u001b[K     |████████████▏                   | 30kB 2.3MB/s eta 0:00:01\r\u001b[K     |████████████████▏               | 40kB 2.5MB/s eta 0:00:01\r\u001b[K     |████████████████████▎           | 51kB 2.0MB/s eta 0:00:01\r\u001b[K     |████████████████████████▎       | 61kB 2.2MB/s eta 0:00:01\r\u001b[K     |████████████████████████████▍   | 71kB 2.5MB/s eta 0:00:01\r\u001b[K     |████████████████████████████████| 81kB 2.1MB/s \n",
            "\u001b[?25hCollecting sgmllib3k\n",
            "  Downloading https://files.pythonhosted.org/packages/9e/bd/3704a8c3e0942d711c1299ebf7b9091930adae6675d7c8f476a7ce48653c/sgmllib3k-1.0.0.tar.gz\n",
            "Building wheels for collected packages: sgmllib3k\n",
            "  Building wheel for sgmllib3k (setup.py) ... \u001b[?25l\u001b[?25hdone\n",
            "  Created wheel for sgmllib3k: filename=sgmllib3k-1.0.0-cp36-none-any.whl size=6067 sha256=4778e53fdd14c2173ff539e4c8777fa3309e9d4eb97e09d91cd2073a9b6f378d\n",
            "  Stored in directory: /root/.cache/pip/wheels/f1/80/5a/444ba08a550cdd241bd9baf8bae44be750efe370adb944506a\n",
            "Successfully built sgmllib3k\n",
            "\u001b[31mERROR: Operation cancelled by user\u001b[0m\n"
          ],
          "name": "stdout"
        }
      ]
    },
    {
      "cell_type": "code",
      "metadata": {
        "id": "QysLGbH9rkMg",
        "colab": {
          "base_uri": "https://localhost:8080/"
        },
        "outputId": "743dbdb6-00bd-47ea-88d4-571d4a5fad4c"
      },
      "source": [
        "!pip show feedparser"
      ],
      "execution_count": null,
      "outputs": [
        {
          "output_type": "stream",
          "text": [
            "Name: feedparser\n",
            "Version: 6.0.2\n",
            "Summary: Universal feed parser, handles RSS 0.9x, RSS 1.0, RSS 2.0, CDF, Atom 0.3, and Atom 1.0 feeds\n",
            "Home-page: https://github.com/kurtmckee/feedparser\n",
            "Author: Kurt McKee\n",
            "Author-email: contactme@kurtmckee.org\n",
            "License: BSD-2-Clause\n",
            "Location: /usr/local/lib/python3.6/dist-packages\n",
            "Requires: sgmllib3k\n",
            "Required-by: \n"
          ],
          "name": "stdout"
        }
      ]
    },
    {
      "cell_type": "code",
      "metadata": {
        "id": "h0djFwVgNrDk",
        "colab": {
          "base_uri": "https://localhost:8080/"
        },
        "outputId": "806964d0-765e-440e-8888-c9cc44f256f3"
      },
      "source": [
        "import feedparser\n",
        "feedp = feedparser.parse('https://news.google.com/rss/search?q=when:24h%20inurl:bloomberg.com/opinion/articles&ceid=US:en&hl=en-US&gl=US')#'https://rsshub.app/wsj/en-us/opinion')\n",
        "len(feedp.entries)"
      ],
      "execution_count": null,
      "outputs": [
        {
          "output_type": "execute_result",
          "data": {
            "text/plain": [
              "12"
            ]
          },
          "metadata": {
            "tags": []
          },
          "execution_count": 6
        }
      ]
    },
    {
      "cell_type": "code",
      "metadata": {
        "id": "klI8mNPFXF4t"
      },
      "source": [
        "feedp = feedparser.parse('https://news.google.com/rss/search?q=economics%20OR%20polotics%20when:4h%20inurl:bloomberg.com/news/articles&ceid=US:en&hl=en-US&gl=US')#'https://rsshub.app/wsj/en-us/opinion')\n",
        "feedp_and = feedparser.parse('https://news.google.com/rss/search?q=economics%20AND%20polotics%20when:4h%20inurl:bloomberg.com/news/articles&ceid=US:en&hl=en-US&gl=US')#'https://rsshub.app/wsj/en-us/opinion')\n",
        "feedp_eco = feedparser.parse('https://news.google.com/rss/search?q=economics%20when:4h%20inurl:bloomberg.com/news/articles&ceid=US:en&hl=en-US&gl=US')\n",
        "feedp_pol = feedparser.parse('https://news.google.com/rss/search?q=polotics%20when:4h%20inurl:bloomberg.com/news/articles&ceid=US:en&hl=en-US&gl=US')\n",
        "len(feedp.entries),len(feedp_eco.entries),len(feedp_pol.entries),len(feedp_and.entries)"
      ],
      "execution_count": null,
      "outputs": []
    },
    {
      "cell_type": "code",
      "metadata": {
        "id": "58aBGStlOh4Y",
        "colab": {
          "base_uri": "https://localhost:8080/"
        },
        "outputId": "55bee0d2-8a4a-4359-a8ac-724ac33abff9"
      },
      "source": [
        "for entry in feedp.entries:\n",
        "  #print([*entry.keys()])\n",
        "  #'title', 'title_detail', 'summary', 'summary_detail', 'published', 'published_parsed', 'id', 'guidislink', 'links', 'link', 'tags'\n",
        "  print(entry.title,entry.updated,entry.published)\n",
        "  #print(entry.summary_detail)#,entry.summary,entry.summary_detail\n",
        "  #break"
      ],
      "execution_count": null,
      "outputs": [
        {
          "output_type": "stream",
          "text": [
            "We Now Return to Our Regularly Scheduled Pandemic - Bloomberg Fri, 06 Nov 2020 15:34:00 GMT Fri, 06 Nov 2020 15:34:00 GMT\n",
            "Target-Date Funds Are Too Risky for Savers - Bloomberg Fri, 06 Nov 2020 14:00:00 GMT Fri, 06 Nov 2020 14:00:00 GMT\n",
            "Trump’s Supreme Court Comments Put Barrett in a Bind - Bloomberg Fri, 06 Nov 2020 14:36:00 GMT Fri, 06 Nov 2020 14:36:00 GMT\n",
            "Progressives Refuse to Hear What Voters Had to Say - Bloomberg Fri, 06 Nov 2020 19:00:00 GMT Fri, 06 Nov 2020 19:00:00 GMT\n",
            "To See Where Polarization Leads, Americans Could Look to Poland - Bloomberg Sat, 07 Nov 2020 06:00:00 GMT Sat, 07 Nov 2020 06:00:00 GMT\n",
            "America’s Election System Is Stressed But Surviving - Bloomberg Fri, 06 Nov 2020 22:16:00 GMT Fri, 06 Nov 2020 22:16:00 GMT\n",
            "The Speech That Sunk the World's Biggest IPO - Bloomberg Sat, 07 Nov 2020 12:00:00 GMT Sat, 07 Nov 2020 12:00:00 GMT\n",
            "This Election’s Winners and Losers - Bloomberg Fri, 06 Nov 2020 13:30:00 GMT Fri, 06 Nov 2020 13:30:00 GMT\n",
            "A Polluter's Easy Path to the Zero Emissions Club - Bloomberg Sat, 07 Nov 2020 00:00:00 GMT Sat, 07 Nov 2020 00:00:00 GMT\n",
            "These Election Takeaways Hold No Matter Who Wins - Bloomberg Fri, 06 Nov 2020 20:06:00 GMT Fri, 06 Nov 2020 20:06:00 GMT\n",
            "America Enters the Era of Technopolitik - Bloomberg Fri, 06 Nov 2020 15:00:00 GMT Fri, 06 Nov 2020 15:00:00 GMT\n",
            "Where’s the Blue Wave? Look in Georgia - Bloomberg Fri, 06 Nov 2020 21:34:00 GMT Fri, 06 Nov 2020 21:34:00 GMT\n"
          ],
          "name": "stdout"
        }
      ]
    }
  ]
}